{
 "cells": [
  {
   "cell_type": "code",
   "execution_count": 1,
   "metadata": {},
   "outputs": [],
   "source": [
    "from injector_surrogate import *"
   ]
  },
  {
   "cell_type": "markdown",
   "metadata": {},
   "source": [
    "<a id=\"init\"></a>\n",
    "# Initial Info - SHOULD WORK WITHOUT ANY OF THIS"
   ]
  },
  {
   "cell_type": "markdown",
   "metadata": {},
   "source": [
    "### Loading basic model info\n",
    "todo - put into config file"
   ]
  },
  {
   "cell_type": "code",
   "execution_count": null,
   "metadata": {},
   "outputs": [],
   "source": [
    "PATH = ''\n",
    "screen ='OTR2'\n",
    "NAME = 'v3b_cnsga_'"
   ]
  },
  {
   "cell_type": "code",
   "execution_count": null,
   "metadata": {},
   "outputs": [],
   "source": [
    "with open(PATH+NAME+screen+'_list_dict.json') as json_file:\n",
    "    json_names = json.load(json_file)\n",
    "    \n",
    "#inputs and outputs in raw data\n",
    "output_names=json_names['out_'+screen+'_vars']\n",
    "input_names = json_names['input_vars']\n"
   ]
  },
  {
   "cell_type": "code",
   "execution_count": null,
   "metadata": {},
   "outputs": [],
   "source": [
    "#load model info\n",
    "model_info = json.load(open('./model_info.json'))\n",
    "\n",
    "#inputs and outputs model is  trained on\n",
    "model_in_list = model_info['model_in_list']\n",
    "model_out_list = model_info['model_out_list']\n",
    "\n",
    "#dictionary of location of variables in array\n",
    "loc_in = model_info['loc_in']\n",
    "loc_out = model_info['loc_out']\n",
    "\n",
    "#inputs and outputs model is  trained on\n",
    "input_mins = model_info['train_input_mins']\n",
    "input_maxs = model_info['train_input_maxs']"
   ]
  },
  {
   "cell_type": "markdown",
   "metadata": {},
   "source": [
    "### Conversion between sim and machine"
   ]
  },
  {
   "cell_type": "markdown",
   "metadata": {},
   "source": [
    "Explanation on model inputs and how they relate to PVs:\n",
    "https://github.com/slaclab/lcls-cu-inj-surrogate/blob/master/pv_mapping/cu_inj_impact.csv"
   ]
  },
  {
   "cell_type": "code",
   "execution_count": null,
   "metadata": {},
   "outputs": [],
   "source": [
    "pv_info = json.load(open('./pvinfo.json'))"
   ]
  },
  {
   "cell_type": "code",
   "execution_count": null,
   "metadata": {},
   "outputs": [],
   "source": [
    "pv_info.keys()"
   ]
  },
  {
   "cell_type": "code",
   "execution_count": null,
   "metadata": {},
   "outputs": [],
   "source": [
    "pv_to_sim_factor = pv_info['pv_to_sim_factor']\n",
    "sim_to_pv_factor = pv_info['sim_to_pv_factor']\n",
    "pv_unit = pv_info['pv_unit']\n",
    "pv_name_to_sim_name = pv_info['pv_name_to_sim_name']\n",
    "sim_name_to_pv_name = pv_info['sim_name_to_pv_name']"
   ]
  },
  {
   "cell_type": "code",
   "execution_count": null,
   "metadata": {},
   "outputs": [],
   "source": []
  },
  {
   "cell_type": "code",
   "execution_count": null,
   "metadata": {},
   "outputs": [],
   "source": [
    "model_in_list"
   ]
  },
  {
   "cell_type": "code",
   "execution_count": null,
   "metadata": {},
   "outputs": [],
   "source": [
    "sim_name_to_pv_name "
   ]
  },
  {
   "cell_type": "markdown",
   "metadata": {},
   "source": [
    "# Load Model"
   ]
  },
  {
   "cell_type": "code",
   "execution_count": 2,
   "metadata": {},
   "outputs": [
    {
     "name": "stderr",
     "output_type": "stream",
     "text": [
      "/sdf/home/e/edelen/miniconda3/envs/ml_nersc/lib/python3.8/site-packages/sklearn/base.py:329: UserWarning: Trying to unpickle estimator MinMaxScaler from version 0.22.1 when using version 0.23.2. This might lead to breaking code or invalid results. Use at your own risk.\n",
      "  warnings.warn(\n"
     ]
    }
   ],
   "source": [
    "Model = Surrogate_NN()\n",
    "\n",
    "\n",
    "Model.load_saved_model()#'','model_OTR2_NA_rms_emit_tanh_2021-02-21T09:49:21-08:00')\n",
    "Model.load_scaling()"
   ]
  },
  {
   "cell_type": "markdown",
   "metadata": {},
   "source": [
    "### Example: Predict sim units"
   ]
  },
  {
   "cell_type": "code",
   "execution_count": null,
   "metadata": {},
   "outputs": [],
   "source": [
    "#sim units\n",
    "X_true = np.load('x_raw_small.npy')\n",
    "Y_true = np.load('y_raw_small.npy')"
   ]
  },
  {
   "cell_type": "code",
   "execution_count": null,
   "metadata": {},
   "outputs": [],
   "source": [
    "# make predictions in sim units\n",
    "Y_pred = Model.pred_sim_units(X_true)"
   ]
  },
  {
   "cell_type": "code",
   "execution_count": null,
   "metadata": {},
   "outputs": [],
   "source": [
    " for i in range(0,Y_true.shape[1]):\n",
    "    idx=np.argsort(Y_true[:,i])\n",
    "    plt.plot(Y_true[idx,i],'.',alpha=0.5)\n",
    "    plt.plot(Y_pred[idx,i],'.',alpha=0.5)\n",
    "    plt.yscale('log')\n",
    "    plt.title(Model.model_out_list[i])\n",
    "    plt.ylabel(Model.model_out_list[i])\n",
    "    plt.xlabel('Sample Number')\n",
    "    plt.legend(['True','Predicted'])\n",
    "    plt.show()"
   ]
  },
  {
   "cell_type": "markdown",
   "metadata": {},
   "source": [
    "### Example: Predict machine units"
   ]
  },
  {
   "cell_type": "code",
   "execution_count": null,
   "metadata": {},
   "outputs": [],
   "source": [
    "#Get some machine unit values by converting sim data\n",
    "X_true_pv = Model.sim_to_machine(np.asarray(X_true))"
   ]
  },
  {
   "cell_type": "code",
   "execution_count": null,
   "metadata": {},
   "outputs": [],
   "source": [
    "Y_pred_pv = Model.pred_machine_units(X_true_pv);"
   ]
  },
  {
   "cell_type": "code",
   "execution_count": null,
   "metadata": {},
   "outputs": [],
   "source": [
    "Y_pred_sim = Model.pred_sim_units(X_true);"
   ]
  },
  {
   "cell_type": "code",
   "execution_count": null,
   "metadata": {},
   "outputs": [],
   "source": [
    " for i in range(0,Y_true.shape[1]):\n",
    "    idx=np.argsort(Y_true[:,i])\n",
    "    plt.plot(Y_true[idx,i],'.',alpha=0.5)\n",
    "    plt.plot(Y_pred_pv[idx,i],'.',alpha=0.5)\n",
    "    plt.plot(Y_pred_sim[idx,i],'.',alpha=0.5)\n",
    "    plt.yscale('log')\n",
    "    plt.title(Model.model_out_list[i])\n",
    "    plt.ylabel(Model.model_out_list[i])\n",
    "    plt.xlabel('Sample Number')\n",
    "    plt.legend(['True','Predicted-pv-units','Predicted-sim-units'])\n",
    "    plt.show()"
   ]
  },
  {
   "cell_type": "markdown",
   "metadata": {},
   "source": [
    "<a id=\"BO\"></a>\n",
    "# Small BO Run"
   ]
  },
  {
   "cell_type": "code",
   "execution_count": null,
   "metadata": {},
   "outputs": [],
   "source": []
  },
  {
   "cell_type": "code",
   "execution_count": 3,
   "metadata": {},
   "outputs": [],
   "source": [
    "#ref point from sim\n",
    "ref_point = [[4.23867825e-01,\n",
    "                      3.06083484e+00,\n",
    "                      2.50000000e+02,\n",
    "                      2.45806452e-01,\n",
    "                      7.13917676e-04,\n",
    "                      3.27285211e-04,\n",
    "                      5.80000000e+07,\n",
    "                      -9.53597349e+00,\n",
    "                      7.00000000e+07,\n",
    "                        9.85566222e+00]]\n",
    "\n",
    "#convert to machine units\n",
    "ref_point = Model.sim_to_machine(np.asarray(ref_point))\n",
    "\n",
    "#nested_list\n",
    "ref_point=[ref_point[0]]"
   ]
  },
  {
   "cell_type": "code",
   "execution_count": 4,
   "metadata": {},
   "outputs": [],
   "source": [
    "\n",
    "\n",
    "opt_var_names = ['SOL1:solenoid_field_scale','SQ01:b1_gradient','CQ01:b1_gradient']\n",
    "opt_out_names = ['norm_emit_x','norm_emit_y']\n",
    "\n",
    "def evaluate(varx,vary,varz):\n",
    "\n",
    "    #make input array of length model_in_list\n",
    "    x_in = np.empty((1,len(Model.model_in_list)))\n",
    "\n",
    "    #fill in reference point around whicch to optimize\n",
    "    x_in[:,:] = np.asarray(ref_point)\n",
    "\n",
    "    #set solenoid, SQ, CQ to values from optimization step\n",
    "    x_in[:, Model.loc_in[opt_var_names[0]]] = varx\n",
    "    x_in[:, Model.loc_in[opt_var_names[1]]] = vary\n",
    "    x_in[:, Model.loc_in[opt_var_names[2]]] = varz\n",
    "\n",
    "    y_out = Model.pred_machine_units(x_in) \n",
    "    print(y_out)\n",
    "\n",
    "    return -1*objective(y_out)[0]\n",
    "\n",
    "\n",
    "def objective(y_out):\n",
    "    out1 = y_out[:,Model.loc_out['norm_emit_x']] #grab norm_emit_x out of the model\n",
    "    out2 = y_out[:,Model.loc_out['norm_emit_y']] #grab norm_emit_y out of the model\n",
    "    \n",
    "    return np.sqrt(out1*out2)\n"
   ]
  },
  {
   "cell_type": "code",
   "execution_count": 5,
   "metadata": {},
   "outputs": [
    {
     "name": "stdout",
     "output_type": "stream",
     "text": [
      "|   iter    |  target   |   varx    |   vary    |   varz    |\n",
      "-------------------------------------------------------------\n",
      "[[2.9693992e-04 1.6553271e-04 4.7145222e-04 9.4704723e-07 1.2634083e-06]]\n",
      "| \u001b[0m 1       \u001b[0m | \u001b[0m-1.094e-0\u001b[0m | \u001b[0m 0.4859  \u001b[0m | \u001b[0m 0.008813\u001b[0m | \u001b[0m-0.02    \u001b[0m |\n",
      "[[1.1227604e-04 2.5596897e-04 4.6861119e-04 8.8930290e-07 1.1359494e-06]]\n",
      "| \u001b[95m 2       \u001b[0m | \u001b[95m-1.005e-0\u001b[0m | \u001b[95m 0.4733  \u001b[0m | \u001b[95m-0.01413 \u001b[0m | \u001b[95m-0.01631 \u001b[0m |\n",
      "[[2.4537212e-04 5.1504601e-04 4.5500905e-04 9.3351326e-07 1.0427668e-06]]\n",
      "| \u001b[95m 3       \u001b[0m | \u001b[95m-9.866e-0\u001b[0m | \u001b[95m 0.4605  \u001b[0m | \u001b[95m-0.006178\u001b[0m | \u001b[95m-0.004129\u001b[0m |\n",
      "[[5.0982850e-04 6.6587927e-05 4.7205962e-04 1.3067519e-06 1.1214986e-06]]\n",
      "| \u001b[0m 4       \u001b[0m | \u001b[0m-1.211e-0\u001b[0m | \u001b[0m 0.4993  \u001b[0m | \u001b[0m-0.003232\u001b[0m | \u001b[0m 0.007409\u001b[0m |\n",
      "[[2.9452998e-04 4.8745537e-04 4.5960789e-04 7.5851614e-07 1.0951378e-06]]\n",
      "| \u001b[95m 5       \u001b[0m | \u001b[95m-9.114e-0\u001b[0m | \u001b[95m 0.4625  \u001b[0m | \u001b[95m 0.01512 \u001b[0m | \u001b[95m-0.0189  \u001b[0m |\n",
      "[[4.2867448e-04 4.7319882e-05 4.7617420e-04 1.4784256e-06 1.5225029e-06]]\n",
      "| \u001b[0m 6       \u001b[0m | \u001b[0m-1.5e-06 \u001b[0m | \u001b[0m 0.5138  \u001b[0m | \u001b[0m-0.003308\u001b[0m | \u001b[0m 0.002348\u001b[0m |\n",
      "[[2.7096085e-04 6.1804318e-04 4.5433259e-04 1.1103139e-06 8.8813158e-07]]\n",
      "| \u001b[0m 7       \u001b[0m | \u001b[0m-9.93e-07\u001b[0m | \u001b[0m 0.4554  \u001b[0m | \u001b[0m-0.01208 \u001b[0m | \u001b[0m 0.01203 \u001b[0m |\n",
      "[[3.486729e-04 3.555694e-05 5.131320e-04 1.658024e-06 1.829064e-06]]\n",
      "| \u001b[0m 8       \u001b[0m | \u001b[0m-1.741e-0\u001b[0m | \u001b[0m 0.5465  \u001b[0m | \u001b[0m-0.007463\u001b[0m | \u001b[0m 0.007693\u001b[0m |\n",
      "[[3.7575516e-04 4.3754051e-05 5.0015229e-04 1.5675386e-06 2.0578591e-06]]\n",
      "| \u001b[0m 9       \u001b[0m | \u001b[0m-1.796e-0\u001b[0m | \u001b[0m 0.5364  \u001b[0m | \u001b[0m 0.01578 \u001b[0m | \u001b[0m-0.0166  \u001b[0m |\n",
      "[[3.8195809e-04 7.6858379e-04 4.5456557e-04 1.2165895e-06 9.7081954e-07]]\n",
      "| \u001b[0m 10      \u001b[0m | \u001b[0m-1.087e-0\u001b[0m | \u001b[0m 0.4443  \u001b[0m | \u001b[0m-0.01321 \u001b[0m | \u001b[0m 0.01513 \u001b[0m |\n",
      "[[1.8050123e-04 3.5412927e-04 4.6620279e-04 1.3489464e-06 9.8691692e-07]]\n",
      "| \u001b[0m 11      \u001b[0m | \u001b[0m-1.154e-0\u001b[0m | \u001b[0m 0.4665  \u001b[0m | \u001b[0m 0.0193  \u001b[0m | \u001b[0m 0.01922 \u001b[0m |\n",
      "[[4.7095187e-04 7.1286317e-04 4.5012700e-04 1.0389283e-06 1.2059517e-06]]\n",
      "| \u001b[0m 12      \u001b[0m | \u001b[0m-1.119e-0\u001b[0m | \u001b[0m 0.4414  \u001b[0m | \u001b[0m 0.01789 \u001b[0m | \u001b[0m-0.01849 \u001b[0m |\n",
      "[[1.6742901e-04 1.0595083e-04 4.7109695e-04 1.0720433e-06 7.3664302e-07]]\n",
      "| \u001b[95m 13      \u001b[0m | \u001b[95m-8.887e-0\u001b[0m | \u001b[95m 0.4805  \u001b[0m | \u001b[95m-0.01967 \u001b[0m | \u001b[95m 0.01996 \u001b[0m |\n",
      "[[1.4576885e-04 4.5374676e-04 4.5639367e-04 1.1125173e-06 7.3827044e-07]]\n",
      "| \u001b[0m 14      \u001b[0m | \u001b[0m-9.063e-0\u001b[0m | \u001b[0m 0.465   \u001b[0m | \u001b[0m-0.01378 \u001b[0m | \u001b[0m 0.01789 \u001b[0m |\n",
      "[[3.0216857e-04 4.9591716e-04 4.5912032e-04 7.6674252e-07 1.0968572e-06]]\n",
      "| \u001b[0m 15      \u001b[0m | \u001b[0m-9.171e-0\u001b[0m | \u001b[0m 0.4619  \u001b[0m | \u001b[0m 0.01586 \u001b[0m | \u001b[0m-0.019   \u001b[0m |\n",
      "[[4.3300638e-04 7.6697150e-05 4.7072509e-04 1.0102111e-06 8.7060971e-07]]\n",
      "| \u001b[0m 16      \u001b[0m | \u001b[0m-9.378e-0\u001b[0m | \u001b[0m 0.4917  \u001b[0m | \u001b[0m-0.00306 \u001b[0m | \u001b[0m-0.001123\u001b[0m |\n",
      "[[1.2850322e-04 7.6474091e-05 4.6805112e-04 8.6242125e-07 7.3151017e-07]]\n",
      "| \u001b[95m 17      \u001b[0m | \u001b[95m-7.943e-0\u001b[0m | \u001b[95m 0.4805  \u001b[0m | \u001b[95m-0.01956 \u001b[0m | \u001b[95m 0.003338\u001b[0m |\n",
      "[[2.5101256e-04 5.2230066e-04 4.5525600e-04 9.4193649e-07 1.0652590e-06]]\n",
      "| \u001b[0m 18      \u001b[0m | \u001b[0m-1.002e-0\u001b[0m | \u001b[0m 0.46    \u001b[0m | \u001b[0m-0.006347\u001b[0m | \u001b[0m-0.004671\u001b[0m |\n",
      "[[2.4315868e-04 5.1227713e-04 4.5498536e-04 9.3136305e-07 1.0379755e-06]]\n",
      "| \u001b[0m 19      \u001b[0m | \u001b[0m-9.832e-0\u001b[0m | \u001b[0m 0.4607  \u001b[0m | \u001b[0m-0.006218\u001b[0m | \u001b[0m-0.004028\u001b[0m |\n",
      "[[7.9435966e-05 1.2523922e-04 4.6097135e-04 5.9806297e-07 5.7748798e-07]]\n",
      "| \u001b[95m 20      \u001b[0m | \u001b[95m-5.877e-0\u001b[0m | \u001b[95m 0.4761  \u001b[0m | \u001b[95m-0.002943\u001b[0m | \u001b[95m 0.00417 \u001b[0m |\n",
      "[[1.0280934e-04 1.3188599e-04 4.6227887e-04 6.2586503e-07 6.3682290e-07]]\n",
      "| \u001b[0m 21      \u001b[0m | \u001b[0m-6.313e-0\u001b[0m | \u001b[0m 0.4767  \u001b[0m | \u001b[0m 0.007721\u001b[0m | \u001b[0m 0.002771\u001b[0m |\n",
      "[[8.7297936e-05 1.2995377e-04 4.6321290e-04 7.4490850e-07 7.0825047e-07]]\n",
      "| \u001b[0m 22      \u001b[0m | \u001b[0m-7.263e-0\u001b[0m | \u001b[0m 0.4767  \u001b[0m | \u001b[0m 0.001123\u001b[0m | \u001b[0m 0.01259 \u001b[0m |\n",
      "[[9.5687108e-05 1.1597115e-04 4.6171181e-04 5.6158177e-07 5.8380226e-07]]\n",
      "| \u001b[95m 23      \u001b[0m | \u001b[95m-5.726e-0\u001b[0m | \u001b[95m 0.4771  \u001b[0m | \u001b[95m 0.002105\u001b[0m | \u001b[95m-0.002062\u001b[0m |\n",
      "[[1.1554767e-04 2.2726024e-04 4.5925385e-04 6.5075074e-07 6.4725128e-07]]\n",
      "| \u001b[0m 24      \u001b[0m | \u001b[0m-6.49e-07\u001b[0m | \u001b[0m 0.4725  \u001b[0m | \u001b[0m 0.003927\u001b[0m | \u001b[0m 0.000687\u001b[0m |\n",
      "[[9.5880852e-05 8.9896741e-05 4.6260122e-04 5.7203130e-07 5.8142251e-07]]\n",
      "| \u001b[0m 25      \u001b[0m | \u001b[0m-5.767e-0\u001b[0m | \u001b[0m 0.4786  \u001b[0m | \u001b[0m-0.002821\u001b[0m | \u001b[0m-0.000297\u001b[0m |\n",
      "[[1.08106695e-04 9.52574410e-05 4.62721917e-04 5.76549780e-07\n",
      "  5.93995367e-07]]\n",
      "| \u001b[0m 26      \u001b[0m | \u001b[0m-5.852e-0\u001b[0m | \u001b[0m 0.4788  \u001b[0m | \u001b[0m 0.002584\u001b[0m | \u001b[0m 0.001848\u001b[0m |\n",
      "[[1.6950638e-04 1.4721886e-04 4.6793596e-04 6.7407615e-07 7.9445425e-07]]\n",
      "| \u001b[0m 27      \u001b[0m | \u001b[0m-7.318e-0\u001b[0m | \u001b[0m 0.48    \u001b[0m | \u001b[0m 0.01997 \u001b[0m | \u001b[0m-0.004556\u001b[0m |\n",
      "[[1.1165150e-04 1.3503508e-04 4.6214263e-04 5.7402985e-07 6.1879359e-07]]\n",
      "| \u001b[0m 28      \u001b[0m | \u001b[0m-5.96e-07\u001b[0m | \u001b[0m 0.4768  \u001b[0m | \u001b[0m 0.008494\u001b[0m | \u001b[0m-0.003719\u001b[0m |\n",
      "[[9.6652300e-05 8.1973318e-05 4.6314043e-04 5.9753677e-07 5.9597738e-07]]\n",
      "| \u001b[0m 29      \u001b[0m | \u001b[0m-5.968e-0\u001b[0m | \u001b[0m 0.4791  \u001b[0m | \u001b[0m-0.005844\u001b[0m | \u001b[0m 0.004647\u001b[0m |\n",
      "[[1.0649238e-04 9.9058685e-05 4.6258274e-04 5.6517615e-07 5.8133770e-07]]\n",
      "| \u001b[0m 30      \u001b[0m | \u001b[0m-5.732e-0\u001b[0m | \u001b[0m 0.4785  \u001b[0m | \u001b[0m 0.002042\u001b[0m | \u001b[0m-0.002073\u001b[0m |\n",
      "[[9.0791931e-05 9.9107347e-05 4.6192078e-04 5.6514108e-07 5.7571731e-07]]\n",
      "| \u001b[95m 31      \u001b[0m | \u001b[95m-5.704e-0\u001b[0m | \u001b[95m 0.4778  \u001b[0m | \u001b[95m-0.001421\u001b[0m | \u001b[95m 0.000449\u001b[0m |\n",
      "[[1.4718474e-04 4.2767957e-04 4.5574951e-04 1.0110360e-06 7.9467179e-07]]\n",
      "| \u001b[0m 32      \u001b[0m | \u001b[0m-8.963e-0\u001b[0m | \u001b[0m 0.4653  \u001b[0m | \u001b[0m-0.01741 \u001b[0m | \u001b[0m 0.008154\u001b[0m |\n",
      "[[1.0420303e-04 8.7916858e-05 4.6276869e-04 5.6829685e-07 5.7930822e-07]]\n",
      "| \u001b[0m 33      \u001b[0m | \u001b[0m-5.738e-0\u001b[0m | \u001b[0m 0.479   \u001b[0m | \u001b[0m-0.000878\u001b[0m | \u001b[0m 0.000331\u001b[0m |\n",
      "[[9.07171489e-05 1.06336105e-04 4.61617805e-04 5.64246079e-07\n",
      "  5.75777733e-07]]\n",
      "| \u001b[95m 34      \u001b[0m | \u001b[95m-5.7e-07 \u001b[0m | \u001b[95m 0.4774  \u001b[0m | \u001b[95m 7.604e-0\u001b[0m | \u001b[95m 0.000472\u001b[0m |\n",
      "[[3.4268733e-04 3.6078633e-05 4.9395801e-04 1.6722156e-06 1.8256972e-06]]\n",
      "| \u001b[0m 35      \u001b[0m | \u001b[0m-1.747e-0\u001b[0m | \u001b[0m 0.5323  \u001b[0m | \u001b[0m-0.00326 \u001b[0m | \u001b[0m-0.008156\u001b[0m |\n",
      "[[9.2568698e-05 1.0652448e-04 4.6177610e-04 5.6225753e-07 5.7727266e-07]]\n",
      "| \u001b[95m 36      \u001b[0m | \u001b[95m-5.697e-0\u001b[0m | \u001b[95m 0.4775  \u001b[0m | \u001b[95m 0.000240\u001b[0m | \u001b[95m-0.000810\u001b[0m |\n",
      "[[1.04550018e-04 1.11401125e-04 4.62180789e-04 5.63682931e-07\n",
      "  5.87236968e-07]]\n",
      "| \u001b[0m 37      \u001b[0m | \u001b[0m-5.753e-0\u001b[0m | \u001b[0m 0.4777  \u001b[0m | \u001b[0m 0.00402 \u001b[0m | \u001b[0m-0.002621\u001b[0m |\n",
      "[[9.8344055e-05 9.9353201e-05 4.6249782e-04 5.6869482e-07 5.8466253e-07]]\n",
      "| \u001b[0m 38      \u001b[0m | \u001b[0m-5.766e-0\u001b[0m | \u001b[0m 0.4781  \u001b[0m | \u001b[0m-0.000381\u001b[0m | \u001b[0m-0.002551\u001b[0m |\n",
      "[[9.6381780e-05 1.0490988e-04 4.6187654e-04 5.6248598e-07 5.7776941e-07]]\n",
      "| \u001b[0m 39      \u001b[0m | \u001b[0m-5.701e-0\u001b[0m | \u001b[0m 0.4777  \u001b[0m | \u001b[0m 0.00148 \u001b[0m | \u001b[0m-0.000433\u001b[0m |\n",
      "[[9.3061994e-05 9.9828947e-05 4.6209327e-04 5.6488085e-07 5.7830857e-07]]\n",
      "| \u001b[0m 40      \u001b[0m | \u001b[0m-5.716e-0\u001b[0m | \u001b[0m 0.4779  \u001b[0m | \u001b[0m-0.001058\u001b[0m | \u001b[0m-0.000935\u001b[0m |\n",
      "[[8.9367626e-05 1.0621468e-04 4.6159999e-04 5.6465569e-07 5.7533310e-07]]\n",
      "| \u001b[0m 41      \u001b[0m | \u001b[0m-5.7e-07 \u001b[0m | \u001b[0m 0.4774  \u001b[0m | \u001b[0m-0.000498\u001b[0m | \u001b[0m 0.000499\u001b[0m |\n",
      "[[1.0297281e-04 1.3217004e-04 4.6236039e-04 6.3004694e-07 6.4031610e-07]]\n",
      "| \u001b[0m 42      \u001b[0m | \u001b[0m-6.352e-0\u001b[0m | \u001b[0m 0.4767  \u001b[0m | \u001b[0m 0.007843\u001b[0m | \u001b[0m 0.002992\u001b[0m |\n",
      "[[9.5929150e-05 1.0290095e-04 4.6188667e-04 5.6391195e-07 5.7774133e-07]]\n",
      "| \u001b[0m 43      \u001b[0m | \u001b[0m-5.708e-0\u001b[0m | \u001b[0m 0.4778  \u001b[0m | \u001b[0m 0.001214\u001b[0m | \u001b[0m 0.000287\u001b[0m |\n",
      "[[9.4036310e-05 1.0001210e-04 4.6194746e-04 5.6329066e-07 5.7586885e-07]]\n",
      "| \u001b[95m 44      \u001b[0m | \u001b[95m-5.695e-0\u001b[0m | \u001b[95m 0.4779  \u001b[0m | \u001b[95m-8.852e-0\u001b[0m | \u001b[95m 0.00019 \u001b[0m |\n",
      "[[8.4476844e-05 1.0581582e-04 4.6156012e-04 5.7065444e-07 5.7557406e-07]]\n",
      "| \u001b[0m 45      \u001b[0m | \u001b[0m-5.731e-0\u001b[0m | \u001b[0m 0.4772  \u001b[0m | \u001b[0m-0.002642\u001b[0m | \u001b[0m 0.001278\u001b[0m |\n",
      "[[8.7717119e-05 1.0106679e-04 4.6177895e-04 5.6736383e-07 5.7565143e-07]]\n",
      "| \u001b[0m 46      \u001b[0m | \u001b[0m-5.715e-0\u001b[0m | \u001b[0m 0.4776  \u001b[0m | \u001b[0m-0.00211 \u001b[0m | \u001b[0m 0.000904\u001b[0m |\n",
      "[[8.9042398e-05 1.1206497e-04 4.6155968e-04 5.6416962e-07 5.7880681e-07]]\n",
      "| \u001b[0m 47      \u001b[0m | \u001b[0m-5.714e-0\u001b[0m | \u001b[0m 0.477   \u001b[0m | \u001b[0m-0.000469\u001b[0m | \u001b[0m-0.000827\u001b[0m |\n",
      "[[9.6693700e-05 9.9854275e-05 4.6210957e-04 5.6264048e-07 5.7690721e-07]]\n",
      "| \u001b[0m 48      \u001b[0m | \u001b[0m-5.697e-0\u001b[0m | \u001b[0m 0.478   \u001b[0m | \u001b[0m 0.000318\u001b[0m | \u001b[0m-0.000773\u001b[0m |\n",
      "[[1.0094695e-04 1.0545597e-04 4.6230335e-04 5.6400773e-07 5.8395477e-07]]\n",
      "| \u001b[0m 49      \u001b[0m | \u001b[0m-5.739e-0\u001b[0m | \u001b[0m 0.4779  \u001b[0m | \u001b[0m 0.001739\u001b[0m | \u001b[0m-0.002794\u001b[0m |\n",
      "[[2.1832154e-04 3.8303618e-04 4.6179219e-04 6.5464053e-07 9.5427106e-07]]\n",
      "| \u001b[0m 50      \u001b[0m | \u001b[0m-7.904e-0\u001b[0m | \u001b[0m 0.468   \u001b[0m | \u001b[0m 0.01382 \u001b[0m | \u001b[0m-0.01477 \u001b[0m |\n",
      "=============================================================\n"
     ]
    }
   ],
   "source": [
    "from bayes_opt import BayesianOptimization\n",
    "\n",
    "pbounds = {'varx': (0.44, 0.55),\n",
    "           'vary': (-0.02, 0.02),\n",
    "           'varz': (-0.02, 0.02)}\n",
    "\n",
    "optimizer = BayesianOptimization(\n",
    "    f = evaluate,\n",
    "    pbounds = pbounds,\n",
    "    random_state = 1,\n",
    ")\n",
    "\n",
    "optimizer.maximize(\n",
    "    init_points=10,\n",
    "    n_iter=40,\n",
    ")"
   ]
  },
  {
   "cell_type": "code",
   "execution_count": 6,
   "metadata": {},
   "outputs": [
    {
     "name": "stdout",
     "output_type": "stream",
     "text": [
      "optimum (pv_units)  0.47790413817328165 -8.851912749994681e-05 0.00018995697875329523\n",
      "optimum geom emit  5.695450226994581e-07\n"
     ]
    }
   ],
   "source": [
    "SOL_opt = optimizer.max['params']['varx']\n",
    "CQ_opt = optimizer.max['params']['vary']\n",
    "SQ_opt = optimizer.max['params']['varz']\n",
    "print('optimum (pv_units) ',SOL_opt, CQ_opt, SQ_opt)\n",
    "\n",
    "opt_emit = -1*optimizer.max['target']\n",
    "print('optimum geom emit ', opt_emit)"
   ]
  },
  {
   "cell_type": "code",
   "execution_count": null,
   "metadata": {},
   "outputs": [],
   "source": []
  },
  {
   "cell_type": "code",
   "execution_count": 56,
   "metadata": {},
   "outputs": [],
   "source": []
  },
  {
   "cell_type": "code",
   "execution_count": null,
   "metadata": {},
   "outputs": [],
   "source": []
  },
  {
   "cell_type": "code",
   "execution_count": null,
   "metadata": {},
   "outputs": [],
   "source": []
  },
  {
   "cell_type": "code",
   "execution_count": null,
   "metadata": {},
   "outputs": [],
   "source": []
  }
 ],
 "metadata": {
  "kernelspec": {
   "display_name": "ml_nersc",
   "language": "python",
   "name": "ml_nersc"
  },
  "language_info": {
   "codemirror_mode": {
    "name": "ipython",
    "version": 3
   },
   "file_extension": ".py",
   "mimetype": "text/x-python",
   "name": "python",
   "nbconvert_exporter": "python",
   "pygments_lexer": "ipython3",
   "version": "3.8.6"
  }
 },
 "nbformat": 4,
 "nbformat_minor": 4
}
