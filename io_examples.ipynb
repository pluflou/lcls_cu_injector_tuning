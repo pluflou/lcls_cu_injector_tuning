{
 "cells": [
  {
   "cell_type": "markdown",
   "id": "front-reviewer",
   "metadata": {},
   "source": [
    "# SLAC production I/O examples"
   ]
  },
  {
   "cell_type": "code",
   "execution_count": 1,
   "id": "exclusive-ghost",
   "metadata": {},
   "outputs": [],
   "source": [
    "import epics"
   ]
  },
  {
   "cell_type": "markdown",
   "id": "diverse-badge",
   "metadata": {},
   "source": [
    "## PV names for injector"
   ]
  },
  {
   "cell_type": "code",
   "execution_count": 2,
   "id": "cross-thomson",
   "metadata": {},
   "outputs": [],
   "source": [
    "pvname_SOL1 = 'SOLN:IN20:121:BDES' #solenoid"
   ]
  },
  {
   "cell_type": "code",
   "execution_count": 3,
   "id": "outstanding-chancellor",
   "metadata": {},
   "outputs": [],
   "source": [
    "pvname_CQ01 = 'QUAD:IN20:121:BDES' #skew quad"
   ]
  },
  {
   "cell_type": "code",
   "execution_count": 4,
   "id": "prescription-butter",
   "metadata": {},
   "outputs": [],
   "source": [
    "pvname_SQ01 = 'QUAD:IN20:122:BDES' #skew qaud"
   ]
  },
  {
   "cell_type": "code",
   "execution_count": 5,
   "id": "equivalent-treaty",
   "metadata": {},
   "outputs": [],
   "source": [
    "pvname_OTR_XRMS = 'OTRS:IN20:571:XRMS' #OTR2 camera profile xrms"
   ]
  },
  {
   "cell_type": "markdown",
   "id": "multiple-white",
   "metadata": {},
   "source": [
    "### get one PV "
   ]
  },
  {
   "cell_type": "code",
   "execution_count": 6,
   "id": "intimate-plain",
   "metadata": {},
   "outputs": [
    {
     "data": {
      "text/plain": [
       "0.46335383976059125"
      ]
     },
     "execution_count": 6,
     "metadata": {},
     "output_type": "execute_result"
    }
   ],
   "source": [
    "epics.caget(pvname_SOL1)"
   ]
  },
  {
   "cell_type": "code",
   "execution_count": 7,
   "id": "flying-signature",
   "metadata": {},
   "outputs": [
    {
     "data": {
      "text/plain": [
       "'kG-m'"
      ]
     },
     "execution_count": 7,
     "metadata": {},
     "output_type": "execute_result"
    }
   ],
   "source": [
    "epics.caget(pvname_SOL1+'.EGU')"
   ]
  },
  {
   "cell_type": "code",
   "execution_count": 6,
   "id": "anticipated-wildlife",
   "metadata": {},
   "outputs": [
    {
     "data": {
      "text/plain": [
       "54.78530661048002"
      ]
     },
     "execution_count": 6,
     "metadata": {},
     "output_type": "execute_result"
    }
   ],
   "source": [
    "epics.caget(pvname_OTR_XRMS)"
   ]
  },
  {
   "cell_type": "code",
   "execution_count": 7,
   "id": "stuffed-ability",
   "metadata": {},
   "outputs": [
    {
     "data": {
      "text/plain": [
       "'um'"
      ]
     },
     "execution_count": 7,
     "metadata": {},
     "output_type": "execute_result"
    }
   ],
   "source": [
    "epics.caget(pvname_OTR_XRMS+'.EGU')"
   ]
  },
  {
   "cell_type": "markdown",
   "id": "demonstrated-playing",
   "metadata": {},
   "source": [
    "### get many at once"
   ]
  },
  {
   "cell_type": "code",
   "execution_count": 8,
   "id": "thorough-humanitarian",
   "metadata": {},
   "outputs": [
    {
     "data": {
      "text/plain": [
       "[0.46335383976059125, 0.0029319644975146636, -0.001687306762141537]"
      ]
     },
     "execution_count": 8,
     "metadata": {},
     "output_type": "execute_result"
    }
   ],
   "source": [
    "epics.caget_many([pvname_SOL1,pvname_CQ01,pvname_SQ01])"
   ]
  },
  {
   "cell_type": "markdown",
   "id": "desperate-nature",
   "metadata": {},
   "source": [
    "### object method (need to find out how stable this is)"
   ]
  },
  {
   "cell_type": "code",
   "execution_count": 9,
   "id": "gentle-switzerland",
   "metadata": {},
   "outputs": [],
   "source": [
    "pv=epics.PV(pvname_SOL1)\n",
    "pv.get()"
   ]
  },
  {
   "cell_type": "markdown",
   "id": "dominant-tradition",
   "metadata": {},
   "source": [
    "### LOCAL timestamp (can read machine timestep separately)"
   ]
  },
  {
   "cell_type": "code",
   "execution_count": 11,
   "id": "hazardous-therapist",
   "metadata": {},
   "outputs": [
    {
     "data": {
      "text/plain": [
       "'2021-02-17T09:04:00-08:00'"
      ]
     },
     "execution_count": 11,
     "metadata": {},
     "output_type": "execute_result"
    }
   ],
   "source": [
    "\"\"\"UTC to ISO 8601 with Local TimeZone information without microsecond\"\"\"\n",
    "import datetime\n",
    "def isotime():\n",
    "    return datetime.datetime.utcnow().replace(tzinfo=datetime.timezone.utc).astimezone().replace(microsecond=0).isoformat()\n",
    "isotime()"
   ]
  },
  {
   "cell_type": "code",
   "execution_count": null,
   "id": "caring-plymouth",
   "metadata": {},
   "outputs": [],
   "source": []
  }
 ],
 "metadata": {
  "kernelspec": {
   "display_name": "Python 3",
   "language": "python",
   "name": "python3"
  },
  "language_info": {
   "codemirror_mode": {
    "name": "ipython",
    "version": 3
   },
   "file_extension": ".py",
   "mimetype": "text/x-python",
   "name": "python",
   "nbconvert_exporter": "python",
   "pygments_lexer": "ipython3",
   "version": "3.7.6"
  }
 },
 "nbformat": 4,
 "nbformat_minor": 5
}
