{
 "cells": [
  {
   "cell_type": "markdown",
   "id": "cooperative-award",
   "metadata": {},
   "source": [
    "# SLAC production I/O examples"
   ]
  },
  {
   "cell_type": "code",
   "execution_count": 1,
   "id": "personalized-modification",
   "metadata": {},
   "outputs": [],
   "source": [
    "import epics"
   ]
  },
  {
   "cell_type": "markdown",
   "id": "urban-memorabilia",
   "metadata": {},
   "source": [
    "### get one PV "
   ]
  },
  {
   "cell_type": "code",
   "execution_count": 2,
   "id": "threatened-cycle",
   "metadata": {},
   "outputs": [],
   "source": [
    "pvname_SOL1 = 'SOLN:IN20:121:BDES'"
   ]
  },
  {
   "cell_type": "code",
   "execution_count": 3,
   "id": "fifty-method",
   "metadata": {},
   "outputs": [],
   "source": [
    "pvname_CQ01 = 'QUAD:IN20:121:BDES'"
   ]
  },
  {
   "cell_type": "code",
   "execution_count": 4,
   "id": "after-lottery",
   "metadata": {},
   "outputs": [],
   "source": [
    "pvname_SQ01 = 'QUAD:IN20:122:BDES'"
   ]
  },
  {
   "cell_type": "code",
   "execution_count": 6,
   "id": "protective-perception",
   "metadata": {},
   "outputs": [
    {
     "data": {
      "text/plain": [
       "0.46335383976059125"
      ]
     },
     "execution_count": 6,
     "metadata": {},
     "output_type": "execute_result"
    }
   ],
   "source": [
    "epics.caget(pvname_SOL1)"
   ]
  },
  {
   "cell_type": "code",
   "execution_count": 7,
   "id": "academic-arabic",
   "metadata": {},
   "outputs": [
    {
     "data": {
      "text/plain": [
       "'kG-m'"
      ]
     },
     "execution_count": 7,
     "metadata": {},
     "output_type": "execute_result"
    }
   ],
   "source": [
    "epics.caget(pvname_SOL1+'.EGU')"
   ]
  },
  {
   "cell_type": "markdown",
   "id": "adjustable-minutes",
   "metadata": {},
   "source": [
    "### get many at once"
   ]
  },
  {
   "cell_type": "code",
   "execution_count": 8,
   "id": "engaging-jimmy",
   "metadata": {},
   "outputs": [
    {
     "data": {
      "text/plain": [
       "[0.46335383976059125, 0.0029319644975146636, -0.001687306762141537]"
      ]
     },
     "execution_count": 8,
     "metadata": {},
     "output_type": "execute_result"
    }
   ],
   "source": [
    "epics.caget_many([pvname_SOL1,pvname_CQ01,pvname_SQ01])"
   ]
  },
  {
   "cell_type": "markdown",
   "id": "handmade-cardiff",
   "metadata": {},
   "source": [
    "### object method (need to find out how stable this is)"
   ]
  },
  {
   "cell_type": "code",
   "execution_count": 9,
   "id": "raising-intensity",
   "metadata": {},
   "outputs": [],
   "source": [
    "pv=epics.PV(pvname_SOL1)\n",
    "pv.get()"
   ]
  },
  {
   "cell_type": "markdown",
   "id": "daily-deadline",
   "metadata": {},
   "source": [
    "### LOCAL timestamp (can read machine timestep separately)"
   ]
  },
  {
   "cell_type": "code",
   "execution_count": 11,
   "id": "blocked-complaint",
   "metadata": {},
   "outputs": [
    {
     "data": {
      "text/plain": [
       "'2021-02-17T09:04:00-08:00'"
      ]
     },
     "execution_count": 11,
     "metadata": {},
     "output_type": "execute_result"
    }
   ],
   "source": [
    "\"\"\"UTC to ISO 8601 with Local TimeZone information without microsecond\"\"\"\n",
    "import datetime\n",
    "def isotime():\n",
    "    return datetime.datetime.utcnow().replace(tzinfo=datetime.timezone.utc).astimezone().replace(microsecond=0).isoformat()\n",
    "isotime()"
   ]
  },
  {
   "cell_type": "code",
   "execution_count": null,
   "id": "naval-screening",
   "metadata": {},
   "outputs": [],
   "source": []
  }
 ],
 "metadata": {
  "kernelspec": {
   "display_name": "Python 3",
   "language": "python",
   "name": "python3"
  },
  "language_info": {
   "codemirror_mode": {
    "name": "ipython",
    "version": 3
   },
   "file_extension": ".py",
   "mimetype": "text/x-python",
   "name": "python",
   "nbconvert_exporter": "python",
   "pygments_lexer": "ipython3",
   "version": "3.7.6"
  }
 },
 "nbformat": 4,
 "nbformat_minor": 5
}
