{
 "cells": [
  {
   "cell_type": "code",
   "execution_count": 2,
   "metadata": {},
   "outputs": [],
   "source": [
    "\n",
    "#loading\n",
    "%matplotlib inline\n",
    "import fnmatch\n",
    "import matplotlib.pyplot as plt\n",
    "import numpy as np\n",
    "import pandas as pd\n",
    "import time\n",
    "import json\n",
    "from scipy.io import loadmat\n",
    "import os"
   ]
  },
  {
   "cell_type": "markdown",
   "metadata": {},
   "source": [
    "## Emittance Scan"
   ]
  },
  {
   "cell_type": "code",
   "execution_count": 12,
   "metadata": {},
   "outputs": [],
   "source": [
    "emit_mat = loadmat('Emittance-scan-OTRS_IN20_571-2020-06-21-145152.mat')"
   ]
  },
  {
   "cell_type": "code",
   "execution_count": 13,
   "metadata": {},
   "outputs": [
    {
     "data": {
      "text/plain": [
       "('status',\n",
       " 'type',\n",
       " 'name',\n",
       " 'quadName',\n",
       " 'quadVal',\n",
       " 'use',\n",
       " 'ts',\n",
       " 'beam',\n",
       " 'beamStd',\n",
       " 'beamList',\n",
       " 'chargeList',\n",
       " 'charge',\n",
       " 'chargeStd',\n",
       " 'rMatrix',\n",
       " 'twiss0',\n",
       " 'energy',\n",
       " 'twiss',\n",
       " 'twissstd',\n",
       " 'orbit',\n",
       " 'orbitstd',\n",
       " 'twissPV')"
      ]
     },
     "execution_count": 13,
     "metadata": {},
     "output_type": "execute_result"
    }
   ],
   "source": [
    "emit_mat['data'][0].dtype.names"
   ]
  },
  {
   "cell_type": "markdown",
   "metadata": {},
   "source": [
    "## twissPV"
   ]
  },
  {
   "cell_type": "code",
   "execution_count": 9,
   "metadata": {},
   "outputs": [
    {
     "data": {
      "text/plain": [
       "array([array([[0.41001786, 0.4195929 , 0.43815634, 0.77296327, 0.64820609,\n",
       "        0.52070086, 0.75857319]])], dtype=object)"
      ]
     },
     "execution_count": 9,
     "metadata": {},
     "output_type": "execute_result"
    }
   ],
   "source": [
    "#values for first twiss\n",
    "emit_mat['data'][0]['twissPV'][0]['val'][0]"
   ]
  },
  {
   "cell_type": "code",
   "execution_count": 5,
   "metadata": {},
   "outputs": [
    {
     "data": {
      "text/plain": [
       "array([array(['OTRS:IN20:571:EMITX'], dtype='<U19')], dtype=object)"
      ]
     },
     "execution_count": 5,
     "metadata": {},
     "output_type": "execute_result"
    }
   ],
   "source": [
    "#name for first twiss\n",
    "emit_mat['data'][0]['twissPV'][0]['name'][0]"
   ]
  },
  {
   "cell_type": "code",
   "execution_count": 6,
   "metadata": {},
   "outputs": [
    {
     "data": {
      "text/plain": [
       "array([array([[1.12939612, 1.16440669, 1.16779273, 1.15295278, 1.08680721,\n",
       "        1.18772123, 1.16988469]])], dtype=object)"
      ]
     },
     "execution_count": 6,
     "metadata": {},
     "output_type": "execute_result"
    }
   ],
   "source": [
    "#values for first twiss\n",
    "emit_mat['data'][0]['twissPV'][0]['val'][1]"
   ]
  },
  {
   "cell_type": "code",
   "execution_count": 7,
   "metadata": {},
   "outputs": [
    {
     "data": {
      "text/plain": [
       "array([array(['OTRS:IN20:571:BETAX'], dtype='<U19')], dtype=object)"
      ]
     },
     "execution_count": 7,
     "metadata": {},
     "output_type": "execute_result"
    }
   ],
   "source": [
    "#name for first twiss\n",
    "emit_mat['data'][0]['twissPV'][0]['name'][1]"
   ]
  },
  {
   "cell_type": "markdown",
   "metadata": {},
   "source": [
    "## beam data"
   ]
  },
  {
   "cell_type": "code",
   "execution_count": 8,
   "metadata": {},
   "outputs": [],
   "source": [
    "# beam data is sample per row, method of fit per column"
   ]
  },
  {
   "cell_type": "code",
   "execution_count": 9,
   "metadata": {},
   "outputs": [
    {
     "data": {
      "text/plain": [
       "(5, 7)"
      ]
     },
     "execution_count": 9,
     "metadata": {},
     "output_type": "execute_result"
    }
   ],
   "source": [
    "emit_mat['data'][0]['beam'][0].shape"
   ]
  },
  {
   "cell_type": "code",
   "execution_count": 10,
   "metadata": {},
   "outputs": [],
   "source": [
    "emit_mat['data'][0]['beam'][0];#SAMPLE, METHOD"
   ]
  },
  {
   "cell_type": "code",
   "execution_count": 43,
   "metadata": {},
   "outputs": [
    {
     "data": {
      "text/plain": [
       "142.25218496245148"
      ]
     },
     "execution_count": 43,
     "metadata": {},
     "output_type": "execute_result"
    }
   ],
   "source": [
    "emit_mat['data'][0]['beam'][0][0,0]['stats'][0,2] #xrms\n",
    "#emit_mat['data'][0]['beam'][0][step,method]['stats'][0,2] #xrms"
   ]
  },
  {
   "cell_type": "code",
   "execution_count": 18,
   "metadata": {},
   "outputs": [
    {
     "data": {
      "text/plain": [
       "102.31591485349523"
      ]
     },
     "execution_count": 18,
     "metadata": {},
     "output_type": "execute_result"
    }
   ],
   "source": [
    "emit_mat['data'][0]['beam'][0][0,0]['stats'][0,3] #yrms\n"
   ]
  },
  {
   "cell_type": "code",
   "execution_count": null,
   "metadata": {},
   "outputs": [],
   "source": [
    "emit_mat['data'][0]['beam'][0][0,0]['statsStd'][0,2] #xrms std\n"
   ]
  },
  {
   "cell_type": "code",
   "execution_count": 21,
   "metadata": {},
   "outputs": [
    {
     "data": {
      "text/plain": [
       "2.7950137017462877"
      ]
     },
     "execution_count": 21,
     "metadata": {},
     "output_type": "execute_result"
    }
   ],
   "source": [
    "emit_mat['data'][0]['beam'][0][0,0]['statsStd'][0,3] #yrms std"
   ]
  },
  {
   "cell_type": "markdown",
   "metadata": {},
   "source": [
    "## Profiles anad fits"
   ]
  },
  {
   "cell_type": "code",
   "execution_count": 12,
   "metadata": {},
   "outputs": [
    {
     "data": {
      "text/plain": [
       "<matplotlib.legend.Legend at 0x7f17c23482e8>"
      ]
     },
     "execution_count": 12,
     "metadata": {},
     "output_type": "execute_result"
    },
    {
     "data": {
      "image/png": "[encoded data removed]",
      "text/plain": [
       "<Figure size 432x288 with 1 Axes>"
      ]
     },
     "metadata": {
      "needs_background": "light"
     },
     "output_type": "display_data"
    }
   ],
   "source": [
    "## X Profiles\n",
    "plt.plot(emit_mat['data'][0]['beam'][0][0,0]['profx'][1])\n",
    "plt.plot(emit_mat['data'][0]['beam'][0][0,0]['profx'][2])\n",
    "plt.plot(emit_mat['data'][0]['beam'][0][0,1]['profx'][2])\n",
    "plt.plot(emit_mat['data'][0]['beam'][0][0,2]['profx'][2])\n",
    "plt.plot(emit_mat['data'][0]['beam'][0][0,3]['profx'][2])\n",
    "plt.plot(emit_mat['data'][0]['beam'][0][0,4]['profx'][2])\n",
    "plt.plot(emit_mat['data'][0]['beam'][0][0,5]['profx'][2])\n",
    "plt.plot(emit_mat['data'][0]['beam'][0][0,6]['profx'][2])\n",
    "plt.legend(['meas','0','1','2','3','4','5'])"
   ]
  },
  {
   "cell_type": "code",
   "execution_count": 13,
   "metadata": {},
   "outputs": [],
   "source": [
    "## Y Profiles\n",
    "plt.plot(emit_mat['data'][0]['beam'][0][0,0]['profy'][1])\n",
    "plt.plot(emit_mat['data'][0]['beam'][0][0,0]['profy'][2])\n",
    "plt.plot(emit_mat['data'][0]['beam'][0][0,1]['profy'][2])\n",
    "plt.plot(emit_mat['data'][0]['beam'][0][0,2]['profy'][2])\n",
    "plt.plot(emit_mat['data'][0]['beam'][0][0,3]['profy'][2])\n",
    "plt.plot(emit_mat['data'][0]['beam'][0][0,4]['profy'][2])\n",
    "plt.plot(emit_mat['data'][0]['beam'][0][0,5]['profy'][2])\n",
    "plt.plot(emit_mat['data'][0]['beam'][0][0,6]['profy'][2])\n",
    "plt.legend(['meas','0','1','2','3','4','5'])"
   ]
  },
  {
   "cell_type": "code",
   "execution_count": 14,
   "metadata": {},
   "outputs": [
    {
     "data": {
      "text/plain": [
       "<matplotlib.legend.Legend at 0x7f17c1e4b748>"
      ]
     },
     "execution_count": 14,
     "metadata": {},
     "output_type": "execute_result"
    },
    {
     "data": {
      "image/png": "[encoded data removed]",
      "text/plain": [
       "<Figure size 432x288 with 1 Axes>"
      ]
     },
     "metadata": {
      "needs_background": "light"
     },
     "output_type": "display_data"
    }
   ],
   "source": []
  },
  {
   "cell_type": "code",
   "execution_count": null,
   "metadata": {},
   "outputs": [],
   "source": []
  },
  {
   "cell_type": "code",
   "execution_count": 15,
   "metadata": {},
   "outputs": [
    {
     "data": {
      "image/png": "[encoded data removed]",
      "text/plain": [
       "<Figure size 432x288 with 1 Axes>"
      ]
     },
     "metadata": {
      "needs_background": "light"
     },
     "output_type": "display_data"
    }
   ],
   "source": [
    "#look at a scan\n",
    "for i in range(0,5):\n",
    "    plt.plot(emit_mat['data'][0]['beam'][0][i,0]['profx'][1])"
   ]
  },
  {
   "cell_type": "code",
   "execution_count": 21,
   "metadata": {},
   "outputs": [
    {
     "data": {
      "text/plain": [
       "('profx',\n",
       " 'xStat',\n",
       " 'xStatStd',\n",
       " 'profy',\n",
       " 'yStat',\n",
       " 'yStatStd',\n",
       " 'profu',\n",
       " 'uStat',\n",
       " 'uStatStd',\n",
       " 'method',\n",
       " 'stats',\n",
       " 'statsStd')"
      ]
     },
     "execution_count": 21,
     "metadata": {},
     "output_type": "execute_result"
    }
   ],
   "source": [
    "emit_mat['data'][0]['beam'][0].dtype.names"
   ]
  },
  {
   "cell_type": "markdown",
   "metadata": {},
   "source": [
    "## quad values"
   ]
  },
  {
   "cell_type": "code",
   "execution_count": 25,
   "metadata": {},
   "outputs": [
    {
     "data": {
      "text/plain": [
       "array([-6.  , -4.25, -2.5 , -0.75,  1.  ])"
      ]
     },
     "execution_count": 25,
     "metadata": {},
     "output_type": "execute_result"
    }
   ],
   "source": [
    "\n",
    "emit_mat['data'][0]['quadVal'][0][0]"
   ]
  },
  {
   "cell_type": "code",
   "execution_count": 144,
   "metadata": {},
   "outputs": [
    {
     "data": {
      "text/plain": [
       "'QUAD:IN20:525'"
      ]
     },
     "execution_count": 144,
     "metadata": {},
     "output_type": "execute_result"
    }
   ],
   "source": [
    "emit_mat['data']['quadName'][0][0][0]"
   ]
  },
  {
   "cell_type": "markdown",
   "metadata": {},
   "source": [
    "# Collect from one Emit Scan "
   ]
  },
  {
   "cell_type": "code",
   "execution_count": 49,
   "metadata": {},
   "outputs": [],
   "source": [
    "fname='Emittance-scan-OTRS_IN20_571-2020-06-21-145152.mat'\n",
    "data=loadmat(\"./\"+fname)\n",
    "\n",
    "twissPV = data['data'][0]['twissPV'][0]\n",
    "beam_dat = data['data'][0]['beam'][0]\n",
    "num_methods = beam_dat.shape[1]\n",
    "num_steps = beam_dat.shape[0]\n",
    "num_samples = data['data']['chargeList'][0][0][0].shape[0]\n",
    "\n",
    "emitx = np.empty((num_steps,num_methods)) #\n",
    "emity = np.empty((num_steps,num_methods)) #\n",
    "betax = np.empty((num_steps,num_methods)) #\n",
    "betay = np.empty((num_steps,num_methods)) #\n",
    "alphax = np.empty((num_steps,num_methods)) #\n",
    "alphay = np.empty((num_steps,num_methods)) #\n",
    "bmagx = np.empty((num_steps,num_methods)) #\n",
    "bmagy = np.empty((num_steps,num_methods)) #\n",
    "\n",
    "xrms = np.empty((num_steps,))\n",
    "yrms = np.empty((num_steps,))\n",
    "\n",
    "xrms_std = np.empty((num_steps,))\n",
    "yrms_std = np.empty((num_steps,))\n",
    "\n",
    "energy = np.empty((num_steps,))\n",
    "\n",
    "\n",
    "tsMeas = np.empty((num_steps,)) #\n",
    "tsPV = np.empty((num_steps,)) #\n",
    "ctrlPV_name = np.empty((num_steps,),dtype=np.dtype('U100'))\n",
    "ctrlPV_val = np.empty((num_steps,))\n",
    "chg = np.empty((num_steps,num_samples))\n",
    "profx = np.empty((num_steps,data['data'][0]['beam'][0][0,0]['profx'][1].shape[0]))\n",
    "profy = np.empty((num_steps,data['data'][0]['beam'][0][0,0]['profy'][1].shape[0]))\n",
    "chgstd = np.empty((num_steps,num_samples))\n",
    "run = np.empty((num_steps,),dtype=np.dtype('U100'))\n",
    "\n",
    "ctrlPV_val = np.empty((num_steps,)) #\n",
    "\n",
    "ctrlPV_name[:] = data['data']['quadName'][0][0][0].astype(np.dtype('U100'))\n",
    "run[:] =fname\n",
    "\n",
    "ctrlPV_val[:] = data['data'][0]['quadVal'][0][0]\n",
    "\n",
    "for j in range(0,num_steps):\n",
    "\n",
    "    emitx[j,:] = twissPV['val'][0][0][0]\n",
    "\n",
    "    emity[j,:] = twissPV['val'][4][0][0]\n",
    "\n",
    "    betax[j,:] = twissPV['val'][1][0][0]\n",
    "\n",
    "    betay[j,:] = twissPV['val'][5][0][0]\n",
    "\n",
    "    alphax[j,:] = twissPV['val'][2][0][0]\n",
    "\n",
    "    alphay[j,:] = twissPV['val'][6][0][0]\n",
    "\n",
    "    bmagx[j,:] = twissPV['val'][3][0][0]\n",
    "\n",
    "    bmagy[j,:] =twissPV['val'][7][0][0]\n",
    "\n",
    "    tsMeas[j] = data['data']['ts']\n",
    "    \n",
    "    \n",
    "    chg[j,:]=data['data']['chargeList'][0][0][j]\n",
    "    chgstd[j]=data['data']['chargeStd']\n",
    "    \n",
    "    \n",
    "    xrms[j] = data['data'][0]['beam'][0][j,0]['stats'][0,2]\n",
    "    yrms[j] = data['data'][0]['beam'][0][j,0]['stats'][0,3]\n",
    "\n",
    "    xrms_std[j] = data['data'][0]['beam'][0][j,0]['statsStd'][0,2]\n",
    "    yrms_std[j] = data['data'][0]['beam'][0][j,0]['statsStd'][0,3]\n",
    "    \n",
    "    energy[j] = data['data']['energy']\n",
    "\n",
    "df = pd.DataFrame({'run' : fname,\n",
    "        'emitx' : emitx[:,0],\n",
    "        'emity' : emity[:,0],\n",
    "        'betax' : betax[:,0],\n",
    "        'betay' : betay[:,0],\n",
    "        'alphax' : alphax[:,0],\n",
    "        'alphay' : alphay[:,0],\n",
    "        'bmagx' : bmagx[:,0],\n",
    "        'bmagy'  : bmagy[:,0],\n",
    "        'chg'  : chg[:,0],\n",
    "        'energy' : energy[:],\n",
    "        'xrms' : xrms[:],\n",
    "        'yrms' : yrms[:],\n",
    "        'xrms_std' : xrms_std[:],\n",
    "        'yrms_std' : yrms_std[:],\n",
    "        'tsMeas'  : tsMeas,\n",
    "        'ctrlPV_val': ctrlPV_val,\n",
    "        'ctrlPV_name': ctrlPV_name})\n"
   ]
  },
  {
   "cell_type": "code",
   "execution_count": 50,
   "metadata": {},
   "outputs": [
    {
     "data": {
      "text/html": [
       "<div>\n",
       "<style scoped>\n",
       "    .dataframe tbody tr th:only-of-type {\n",
       "        vertical-align: middle;\n",
       "    }\n",
       "\n",
       "    .dataframe tbody tr th {\n",
       "        vertical-align: top;\n",
       "    }\n",
       "\n",
       "    .dataframe thead th {\n",
       "        text-align: right;\n",
       "    }\n",
       "</style>\n",
       "<table border=\"1\" class=\"dataframe\">\n",
       "  <thead>\n",
       "    <tr style=\"text-align: right;\">\n",
       "      <th></th>\n",
       "      <th>run</th>\n",
       "      <th>emitx</th>\n",
       "      <th>emity</th>\n",
       "      <th>betax</th>\n",
       "      <th>betay</th>\n",
       "      <th>alphax</th>\n",
       "      <th>alphay</th>\n",
       "      <th>bmagx</th>\n",
       "      <th>bmagy</th>\n",
       "      <th>chg</th>\n",
       "      <th>energy</th>\n",
       "      <th>xrms</th>\n",
       "      <th>yrms</th>\n",
       "      <th>xrms_std</th>\n",
       "      <th>yrms_std</th>\n",
       "      <th>tsMeas</th>\n",
       "      <th>ctrlPV_val</th>\n",
       "      <th>ctrlPV_name</th>\n",
       "    </tr>\n",
       "  </thead>\n",
       "  <tbody>\n",
       "    <tr>\n",
       "      <th>0</th>\n",
       "      <td>Emittance-scan-OTRS_IN20_571-2020-06-21-145152...</td>\n",
       "      <td>0.441574</td>\n",
       "      <td>0.479837</td>\n",
       "      <td>2.041942</td>\n",
       "      <td>1.568655</td>\n",
       "      <td>-0.238407</td>\n",
       "      <td>0.098261</td>\n",
       "      <td>1.19493</td>\n",
       "      <td>1.073886</td>\n",
       "      <td>0.241145</td>\n",
       "      <td>0.135</td>\n",
       "      <td>142.252185</td>\n",
       "      <td>102.315915</td>\n",
       "      <td>3.361315</td>\n",
       "      <td>2.795014</td>\n",
       "      <td>737963.619363</td>\n",
       "      <td>-5.517900</td>\n",
       "      <td>QUAD:IN20:525</td>\n",
       "    </tr>\n",
       "    <tr>\n",
       "      <th>1</th>\n",
       "      <td>Emittance-scan-OTRS_IN20_571-2020-06-21-145152...</td>\n",
       "      <td>0.441574</td>\n",
       "      <td>0.479837</td>\n",
       "      <td>2.041942</td>\n",
       "      <td>1.568655</td>\n",
       "      <td>-0.238407</td>\n",
       "      <td>0.098261</td>\n",
       "      <td>1.19493</td>\n",
       "      <td>1.073886</td>\n",
       "      <td>0.242144</td>\n",
       "      <td>0.135</td>\n",
       "      <td>102.829644</td>\n",
       "      <td>57.603621</td>\n",
       "      <td>2.597567</td>\n",
       "      <td>1.270074</td>\n",
       "      <td>737963.619363</td>\n",
       "      <td>-4.519675</td>\n",
       "      <td>QUAD:IN20:525</td>\n",
       "    </tr>\n",
       "    <tr>\n",
       "      <th>2</th>\n",
       "      <td>Emittance-scan-OTRS_IN20_571-2020-06-21-145152...</td>\n",
       "      <td>0.441574</td>\n",
       "      <td>0.479837</td>\n",
       "      <td>2.041942</td>\n",
       "      <td>1.568655</td>\n",
       "      <td>-0.238407</td>\n",
       "      <td>0.098261</td>\n",
       "      <td>1.19493</td>\n",
       "      <td>1.073886</td>\n",
       "      <td>0.241029</td>\n",
       "      <td>0.135</td>\n",
       "      <td>79.477429</td>\n",
       "      <td>42.734515</td>\n",
       "      <td>2.122466</td>\n",
       "      <td>0.417468</td>\n",
       "      <td>737963.619363</td>\n",
       "      <td>-3.521450</td>\n",
       "      <td>QUAD:IN20:525</td>\n",
       "    </tr>\n",
       "    <tr>\n",
       "      <th>3</th>\n",
       "      <td>Emittance-scan-OTRS_IN20_571-2020-06-21-145152...</td>\n",
       "      <td>0.441574</td>\n",
       "      <td>0.479837</td>\n",
       "      <td>2.041942</td>\n",
       "      <td>1.568655</td>\n",
       "      <td>-0.238407</td>\n",
       "      <td>0.098261</td>\n",
       "      <td>1.19493</td>\n",
       "      <td>1.073886</td>\n",
       "      <td>0.239273</td>\n",
       "      <td>0.135</td>\n",
       "      <td>50.142066</td>\n",
       "      <td>69.352124</td>\n",
       "      <td>0.714112</td>\n",
       "      <td>0.544865</td>\n",
       "      <td>737963.619363</td>\n",
       "      <td>-2.523225</td>\n",
       "      <td>QUAD:IN20:525</td>\n",
       "    </tr>\n",
       "    <tr>\n",
       "      <th>4</th>\n",
       "      <td>Emittance-scan-OTRS_IN20_571-2020-06-21-145152...</td>\n",
       "      <td>0.441574</td>\n",
       "      <td>0.479837</td>\n",
       "      <td>2.041942</td>\n",
       "      <td>1.568655</td>\n",
       "      <td>-0.238407</td>\n",
       "      <td>0.098261</td>\n",
       "      <td>1.19493</td>\n",
       "      <td>1.073886</td>\n",
       "      <td>0.237072</td>\n",
       "      <td>0.135</td>\n",
       "      <td>55.691068</td>\n",
       "      <td>108.715472</td>\n",
       "      <td>0.686896</td>\n",
       "      <td>1.306614</td>\n",
       "      <td>737963.619363</td>\n",
       "      <td>-1.525000</td>\n",
       "      <td>QUAD:IN20:525</td>\n",
       "    </tr>\n",
       "  </tbody>\n",
       "</table>\n",
       "</div>"
      ],
      "text/plain": [
       "                                                 run     emitx     emity  \\\n",
       "0  Emittance-scan-OTRS_IN20_571-2020-06-21-145152...  0.441574  0.479837   \n",
       "1  Emittance-scan-OTRS_IN20_571-2020-06-21-145152...  0.441574  0.479837   \n",
       "2  Emittance-scan-OTRS_IN20_571-2020-06-21-145152...  0.441574  0.479837   \n",
       "3  Emittance-scan-OTRS_IN20_571-2020-06-21-145152...  0.441574  0.479837   \n",
       "4  Emittance-scan-OTRS_IN20_571-2020-06-21-145152...  0.441574  0.479837   \n",
       "\n",
       "      betax     betay    alphax    alphay    bmagx     bmagy       chg  \\\n",
       "0  2.041942  1.568655 -0.238407  0.098261  1.19493  1.073886  0.241145   \n",
       "1  2.041942  1.568655 -0.238407  0.098261  1.19493  1.073886  0.242144   \n",
       "2  2.041942  1.568655 -0.238407  0.098261  1.19493  1.073886  0.241029   \n",
       "3  2.041942  1.568655 -0.238407  0.098261  1.19493  1.073886  0.239273   \n",
       "4  2.041942  1.568655 -0.238407  0.098261  1.19493  1.073886  0.237072   \n",
       "\n",
       "   energy        xrms        yrms  xrms_std  yrms_std         tsMeas  \\\n",
       "0   0.135  142.252185  102.315915  3.361315  2.795014  737963.619363   \n",
       "1   0.135  102.829644   57.603621  2.597567  1.270074  737963.619363   \n",
       "2   0.135   79.477429   42.734515  2.122466  0.417468  737963.619363   \n",
       "3   0.135   50.142066   69.352124  0.714112  0.544865  737963.619363   \n",
       "4   0.135   55.691068  108.715472  0.686896  1.306614  737963.619363   \n",
       "\n",
       "   ctrlPV_val    ctrlPV_name  \n",
       "0   -5.517900  QUAD:IN20:525  \n",
       "1   -4.519675  QUAD:IN20:525  \n",
       "2   -3.521450  QUAD:IN20:525  \n",
       "3   -2.523225  QUAD:IN20:525  \n",
       "4   -1.525000  QUAD:IN20:525  "
      ]
     },
     "execution_count": 50,
     "metadata": {},
     "output_type": "execute_result"
    }
   ],
   "source": [
    "df"
   ]
  },
  {
   "cell_type": "markdown",
   "metadata": {},
   "source": [
    "## CorrPlots"
   ]
  },
  {
   "cell_type": "code",
   "execution_count": 2,
   "metadata": {},
   "outputs": [
    {
     "name": "stdout",
     "output_type": "stream",
     "text": [
      "Total  5 files:\n",
      "CorrelationPlot-QUAD_IN20_121_BCTRL-2021-02-18-130835.mat\n",
      "CorrelationPlot-QUAD_IN20_121_BCTRL-2021-02-18-222002.mat\n",
      "failed\n",
      "CorrelationPlot-QUAD_IN20_121_BCTRL-2021-02-18-221852.mat\n",
      "failed\n",
      "CorrelationPlot-QUAD_IN20_121_BCTRL-2020-06-21-104451.mat\n",
      "failed\n",
      "CorrelationPlot-QUAD_IN20_121_BCTRL-2020-06-21-110754.mat\n"
     ]
    }
   ],
   "source": [
    "filenames=[]\n",
    "for file in os.scandir(\"./\"):\n",
    "    if file.name.endswith(\".mat\"):\n",
    "        if fnmatch.fnmatch(file, '*QUAD_IN20_121*'):#SOLN, QUAD_IN20_122, QUAD_IN20_121\n",
    "            filenames.append(file.name)\n",
    "print('Total ',len(filenames),'files:')\n",
    "\n",
    "combined =[]\n",
    "ts_all=[]\n",
    "df_all=pd.DataFrame().astype(object)\n",
    "noload=0\n",
    "\n",
    "for i,fname in enumerate(filenames):\n",
    "    print(fname)\n",
    "    data=loadmat(\"./\"+fname)\n",
    "    combined += data\n",
    "    \n",
    "    try:\n",
    "        twissPV = data['data'][0][0]['twissPV']\n",
    "        num_methods = twissPV[0,1][1].shape[1]\n",
    "        num_steps = twissPV[0,:].shape[0]\n",
    "\n",
    "        emitx = np.empty((num_steps,num_methods)) #\n",
    "        emity = np.empty((num_steps,num_methods)) #\n",
    "        betax = np.empty((num_steps,num_methods)) #\n",
    "        betay = np.empty((num_steps,num_methods)) #\n",
    "        alphax = np.empty((num_steps,num_methods)) #\n",
    "        alphay = np.empty((num_steps,num_methods)) #\n",
    "        bmagx = np.empty((num_steps,num_methods)) #\n",
    "        bmagy = np.empty((num_steps,num_methods)) #\n",
    "        tsMeas = np.empty((num_steps,)) #\n",
    "        tsPV = np.empty((num_steps,)) #\n",
    "        ctrlPV_name = np.empty((num_steps,),dtype=np.dtype('U100'))\n",
    "        ctrlPV_val = np.empty((num_steps,))\n",
    "        chg = np.empty((num_steps,))\n",
    "        run = np.empty((num_steps,),dtype=np.dtype('U100'))\n",
    "        \n",
    "        ctrlPV_val = np.empty((num_steps,)) #\n",
    "\n",
    "        ctrlPV_name[:] = data['data'][0][0][2][0][0][0][0].astype(np.dtype('U100'))\n",
    "        run[:] =filenames[0]\n",
    "\n",
    "\n",
    "        for j in range(0,num_steps):\n",
    "\n",
    "            emitx[j,:] = twissPV[0,j][1][0]\n",
    "\n",
    "            emity[j,:] = twissPV[4,j][1][0]\n",
    "\n",
    "            betax[j,:] = twissPV[1,j][1][0]\n",
    "\n",
    "            betay[j,:] = twissPV[5,j][1][0]\n",
    "\n",
    "            alphax[j,:] = twissPV[2,j][1][0]\n",
    "\n",
    "            alphay[j,:] = twissPV[6,j][1][0]\n",
    "\n",
    "            bmagx[j,:] = twissPV[3,j][1][0]\n",
    "\n",
    "            bmagy[j,:] = twissPV[7,j][1][0]\n",
    "\n",
    "            tsMeas[j] = twissPV[0,j][2]\n",
    "\n",
    "            ctrlPV_val[j] =data['data'][0][0][2][0][j][1][0][0]\n",
    "\n",
    "            tsPV[j] = data['data'][0][0][2][0][j][2][0][0]\n",
    "\n",
    "            chg[j]=data['data'][0][0]['readPV'][0][j][1][0][0]\n",
    "            \n",
    "        df = pd.DataFrame({'run' : filenames[i],\n",
    "                'emitx' : emitx[:,5],\n",
    "                'emity' : emity[:,5],\n",
    "                'betax' : betax[:,5],\n",
    "                'betay' : betay[:,5],\n",
    "                'alphax' : alphax[:,5],\n",
    "                'alphay' : alphay[:,5],\n",
    "                'bmagx' : bmagx[:,5],\n",
    "                'bmagy'  : bmagy[:,5],\n",
    "                'tsMeas'  : tsMeas,\n",
    "                'tsPV': tsPV,\n",
    "                'ctrlPV_val': ctrlPV_val,\n",
    "                          'ctrlPV_name': ctrlPV_name})\n",
    "        df_all = df_all.append(df,ignore_index=True)\n",
    "        \n",
    "    except:\n",
    "        print('failed')\n",
    "#df_all.to_pickle('corrplots_'+ctrlPV_name[0]+'.pkl')\n",
    "#df_all.to_hdf('corrplots_'+ctrlPV_name[0]+'.h5',key='df', mode='w')"
   ]
  },
  {
   "cell_type": "code",
   "execution_count": 3,
   "metadata": {},
   "outputs": [],
   "source": [
    "import pandas as pd\n",
    "\n",
    "da = pd.read_pickle('corrplots_SOLN:IN20:121:BCTRL.pkl')"
   ]
  },
  {
   "cell_type": "code",
   "execution_count": 5,
   "metadata": {},
   "outputs": [
    {
     "data": {
      "text/html": [
       "<div>\n",
       "<style scoped>\n",
       "    .dataframe tbody tr th:only-of-type {\n",
       "        vertical-align: middle;\n",
       "    }\n",
       "\n",
       "    .dataframe tbody tr th {\n",
       "        vertical-align: top;\n",
       "    }\n",
       "\n",
       "    .dataframe thead th {\n",
       "        text-align: right;\n",
       "    }\n",
       "</style>\n",
       "<table border=\"1\" class=\"dataframe\">\n",
       "  <thead>\n",
       "    <tr style=\"text-align: right;\">\n",
       "      <th></th>\n",
       "      <th>run</th>\n",
       "      <th>emitx</th>\n",
       "      <th>emity</th>\n",
       "      <th>betax</th>\n",
       "      <th>betay</th>\n",
       "      <th>alphax</th>\n",
       "      <th>alphay</th>\n",
       "      <th>bmagx</th>\n",
       "      <th>bmagy</th>\n",
       "      <th>tsMeas</th>\n",
       "      <th>tsPV</th>\n",
       "      <th>ctrlPV_val</th>\n",
       "      <th>ctrlPV_name</th>\n",
       "    </tr>\n",
       "  </thead>\n",
       "  <tbody>\n",
       "    <tr>\n",
       "      <th>0</th>\n",
       "      <td>CorrelationPlot-SOLN_IN20_121_BCTRL-2020-06-21...</td>\n",
       "      <td>1.375583</td>\n",
       "      <td>0.897078</td>\n",
       "      <td>2.951984</td>\n",
       "      <td>4.856548</td>\n",
       "      <td>1.398008</td>\n",
       "      <td>-1.423036</td>\n",
       "      <td>1.987530</td>\n",
       "      <td>2.445618</td>\n",
       "      <td>737963.640039</td>\n",
       "      <td>737963.639471</td>\n",
       "      <td>0.450000</td>\n",
       "      <td>SOLN:IN20:121:BCTRL</td>\n",
       "    </tr>\n",
       "    <tr>\n",
       "      <th>1</th>\n",
       "      <td>CorrelationPlot-SOLN_IN20_121_BCTRL-2020-06-21...</td>\n",
       "      <td>1.265147</td>\n",
       "      <td>0.361766</td>\n",
       "      <td>2.412041</td>\n",
       "      <td>9.443199</td>\n",
       "      <td>1.415332</td>\n",
       "      <td>-3.481986</td>\n",
       "      <td>1.879950</td>\n",
       "      <td>4.805325</td>\n",
       "      <td>737963.640665</td>\n",
       "      <td>737963.639471</td>\n",
       "      <td>0.450000</td>\n",
       "      <td>SOLN:IN20:121:BCTRL</td>\n",
       "    </tr>\n",
       "    <tr>\n",
       "      <th>2</th>\n",
       "      <td>CorrelationPlot-SOLN_IN20_121_BCTRL-2020-06-21...</td>\n",
       "      <td>1.272949</td>\n",
       "      <td>0.838851</td>\n",
       "      <td>1.843917</td>\n",
       "      <td>3.924477</td>\n",
       "      <td>1.310587</td>\n",
       "      <td>-1.852989</td>\n",
       "      <td>1.742631</td>\n",
       "      <td>2.275586</td>\n",
       "      <td>737963.641281</td>\n",
       "      <td>737963.639471</td>\n",
       "      <td>0.450000</td>\n",
       "      <td>SOLN:IN20:121:BCTRL</td>\n",
       "    </tr>\n",
       "    <tr>\n",
       "      <th>3</th>\n",
       "      <td>CorrelationPlot-SOLN_IN20_121_BCTRL-2020-06-21...</td>\n",
       "      <td>0.904246</td>\n",
       "      <td>0.716763</td>\n",
       "      <td>2.424907</td>\n",
       "      <td>3.195072</td>\n",
       "      <td>0.671753</td>\n",
       "      <td>-0.601458</td>\n",
       "      <td>1.475737</td>\n",
       "      <td>1.641081</td>\n",
       "      <td>737963.641968</td>\n",
       "      <td>737963.641397</td>\n",
       "      <td>0.456667</td>\n",
       "      <td>SOLN:IN20:121:BCTRL</td>\n",
       "    </tr>\n",
       "    <tr>\n",
       "      <th>4</th>\n",
       "      <td>CorrelationPlot-SOLN_IN20_121_BCTRL-2020-06-21...</td>\n",
       "      <td>0.831620</td>\n",
       "      <td>0.577530</td>\n",
       "      <td>2.070467</td>\n",
       "      <td>2.748163</td>\n",
       "      <td>0.679291</td>\n",
       "      <td>-0.819658</td>\n",
       "      <td>1.375457</td>\n",
       "      <td>1.524935</td>\n",
       "      <td>737963.642613</td>\n",
       "      <td>737963.641397</td>\n",
       "      <td>0.456667</td>\n",
       "      <td>SOLN:IN20:121:BCTRL</td>\n",
       "    </tr>\n",
       "    <tr>\n",
       "      <th>...</th>\n",
       "      <td>...</td>\n",
       "      <td>...</td>\n",
       "      <td>...</td>\n",
       "      <td>...</td>\n",
       "      <td>...</td>\n",
       "      <td>...</td>\n",
       "      <td>...</td>\n",
       "      <td>...</td>\n",
       "      <td>...</td>\n",
       "      <td>...</td>\n",
       "      <td>...</td>\n",
       "      <td>...</td>\n",
       "      <td>...</td>\n",
       "    </tr>\n",
       "    <tr>\n",
       "      <th>75</th>\n",
       "      <td>CorrelationPlot-SOLN_IN20_121_BCTRL-2020-06-21...</td>\n",
       "      <td>0.505607</td>\n",
       "      <td>0.441956</td>\n",
       "      <td>1.659775</td>\n",
       "      <td>1.828982</td>\n",
       "      <td>0.221116</td>\n",
       "      <td>-0.412891</td>\n",
       "      <td>1.117078</td>\n",
       "      <td>1.154496</td>\n",
       "      <td>737963.457433</td>\n",
       "      <td>737963.456842</td>\n",
       "      <td>0.460000</td>\n",
       "      <td>SOLN:IN20:121:BCTRL</td>\n",
       "    </tr>\n",
       "    <tr>\n",
       "      <th>76</th>\n",
       "      <td>CorrelationPlot-SOLN_IN20_121_BCTRL-2020-06-21...</td>\n",
       "      <td>0.435333</td>\n",
       "      <td>0.570538</td>\n",
       "      <td>1.262998</td>\n",
       "      <td>1.939592</td>\n",
       "      <td>-0.895285</td>\n",
       "      <td>1.021651</td>\n",
       "      <td>1.301713</td>\n",
       "      <td>1.532861</td>\n",
       "      <td>737963.458120</td>\n",
       "      <td>737963.457530</td>\n",
       "      <td>0.465000</td>\n",
       "      <td>SOLN:IN20:121:BCTRL</td>\n",
       "    </tr>\n",
       "    <tr>\n",
       "      <th>77</th>\n",
       "      <td>CorrelationPlot-SOLN_IN20_121_BCTRL-2020-06-21...</td>\n",
       "      <td>0.764626</td>\n",
       "      <td>0.000000</td>\n",
       "      <td>2.525417</td>\n",
       "      <td>0.000000</td>\n",
       "      <td>-3.479114</td>\n",
       "      <td>0.000000</td>\n",
       "      <td>3.783740</td>\n",
       "      <td>inf</td>\n",
       "      <td>737963.458815</td>\n",
       "      <td>737963.458211</td>\n",
       "      <td>0.470000</td>\n",
       "      <td>SOLN:IN20:121:BCTRL</td>\n",
       "    </tr>\n",
       "    <tr>\n",
       "      <th>78</th>\n",
       "      <td>CorrelationPlot-SOLN_IN20_121_BCTRL-2020-06-21...</td>\n",
       "      <td>1.505489</td>\n",
       "      <td>0.000000</td>\n",
       "      <td>3.938105</td>\n",
       "      <td>0.000000</td>\n",
       "      <td>-5.417579</td>\n",
       "      <td>0.000000</td>\n",
       "      <td>5.687275</td>\n",
       "      <td>inf</td>\n",
       "      <td>737963.459491</td>\n",
       "      <td>737963.458914</td>\n",
       "      <td>0.475000</td>\n",
       "      <td>SOLN:IN20:121:BCTRL</td>\n",
       "    </tr>\n",
       "    <tr>\n",
       "      <th>79</th>\n",
       "      <td>CorrelationPlot-SOLN_IN20_121_BCTRL-2020-06-21...</td>\n",
       "      <td>0.000000</td>\n",
       "      <td>9.000140</td>\n",
       "      <td>0.000000</td>\n",
       "      <td>1.387756</td>\n",
       "      <td>0.000000</td>\n",
       "      <td>0.616529</td>\n",
       "      <td>inf</td>\n",
       "      <td>1.222404</td>\n",
       "      <td>737963.460216</td>\n",
       "      <td>737963.459594</td>\n",
       "      <td>0.480000</td>\n",
       "      <td>SOLN:IN20:121:BCTRL</td>\n",
       "    </tr>\n",
       "  </tbody>\n",
       "</table>\n",
       "<p>80 rows × 13 columns</p>\n",
       "</div>"
      ],
      "text/plain": [
       "                                                  run     emitx     emity  \\\n",
       "0   CorrelationPlot-SOLN_IN20_121_BCTRL-2020-06-21...  1.375583  0.897078   \n",
       "1   CorrelationPlot-SOLN_IN20_121_BCTRL-2020-06-21...  1.265147  0.361766   \n",
       "2   CorrelationPlot-SOLN_IN20_121_BCTRL-2020-06-21...  1.272949  0.838851   \n",
       "3   CorrelationPlot-SOLN_IN20_121_BCTRL-2020-06-21...  0.904246  0.716763   \n",
       "4   CorrelationPlot-SOLN_IN20_121_BCTRL-2020-06-21...  0.831620  0.577530   \n",
       "..                                                ...       ...       ...   \n",
       "75  CorrelationPlot-SOLN_IN20_121_BCTRL-2020-06-21...  0.505607  0.441956   \n",
       "76  CorrelationPlot-SOLN_IN20_121_BCTRL-2020-06-21...  0.435333  0.570538   \n",
       "77  CorrelationPlot-SOLN_IN20_121_BCTRL-2020-06-21...  0.764626  0.000000   \n",
       "78  CorrelationPlot-SOLN_IN20_121_BCTRL-2020-06-21...  1.505489  0.000000   \n",
       "79  CorrelationPlot-SOLN_IN20_121_BCTRL-2020-06-21...  0.000000  9.000140   \n",
       "\n",
       "       betax     betay    alphax    alphay     bmagx     bmagy         tsMeas  \\\n",
       "0   2.951984  4.856548  1.398008 -1.423036  1.987530  2.445618  737963.640039   \n",
       "1   2.412041  9.443199  1.415332 -3.481986  1.879950  4.805325  737963.640665   \n",
       "2   1.843917  3.924477  1.310587 -1.852989  1.742631  2.275586  737963.641281   \n",
       "3   2.424907  3.195072  0.671753 -0.601458  1.475737  1.641081  737963.641968   \n",
       "4   2.070467  2.748163  0.679291 -0.819658  1.375457  1.524935  737963.642613   \n",
       "..       ...       ...       ...       ...       ...       ...            ...   \n",
       "75  1.659775  1.828982  0.221116 -0.412891  1.117078  1.154496  737963.457433   \n",
       "76  1.262998  1.939592 -0.895285  1.021651  1.301713  1.532861  737963.458120   \n",
       "77  2.525417  0.000000 -3.479114  0.000000  3.783740       inf  737963.458815   \n",
       "78  3.938105  0.000000 -5.417579  0.000000  5.687275       inf  737963.459491   \n",
       "79  0.000000  1.387756  0.000000  0.616529       inf  1.222404  737963.460216   \n",
       "\n",
       "             tsPV  ctrlPV_val          ctrlPV_name  \n",
       "0   737963.639471    0.450000  SOLN:IN20:121:BCTRL  \n",
       "1   737963.639471    0.450000  SOLN:IN20:121:BCTRL  \n",
       "2   737963.639471    0.450000  SOLN:IN20:121:BCTRL  \n",
       "3   737963.641397    0.456667  SOLN:IN20:121:BCTRL  \n",
       "4   737963.641397    0.456667  SOLN:IN20:121:BCTRL  \n",
       "..            ...         ...                  ...  \n",
       "75  737963.456842    0.460000  SOLN:IN20:121:BCTRL  \n",
       "76  737963.457530    0.465000  SOLN:IN20:121:BCTRL  \n",
       "77  737963.458211    0.470000  SOLN:IN20:121:BCTRL  \n",
       "78  737963.458914    0.475000  SOLN:IN20:121:BCTRL  \n",
       "79  737963.459594    0.480000  SOLN:IN20:121:BCTRL  \n",
       "\n",
       "[80 rows x 13 columns]"
      ]
     },
     "execution_count": 5,
     "metadata": {},
     "output_type": "execute_result"
    }
   ],
   "source": [
    "da"
   ]
  }
 ],
 "metadata": {
  "kernelspec": {
   "display_name": "Python 3",
   "language": "python",
   "name": "python3"
  },
  "language_info": {
   "codemirror_mode": {
    "name": "ipython",
    "version": 3
   },
   "file_extension": ".py",
   "mimetype": "text/x-python",
   "name": "python",
   "nbconvert_exporter": "python",
   "pygments_lexer": "ipython3",
   "version": "3.6.9"
  }
 },
 "nbformat": 4,
 "nbformat_minor": 4
}
